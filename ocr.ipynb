{
  "nbformat": 4,
  "nbformat_minor": 0,
  "metadata": {
    "colab": {
      "provenance": [],
      "authorship_tag": "ABX9TyPujHBPN7pd4sYKb2rpCE90",
      "include_colab_link": true
    },
    "kernelspec": {
      "name": "python3",
      "display_name": "Python 3"
    },
    "language_info": {
      "name": "python"
    }
  },
  "cells": [
    {
      "cell_type": "markdown",
      "metadata": {
        "id": "view-in-github",
        "colab_type": "text"
      },
      "source": [
        "<a href=\"https://colab.research.google.com/github/sahar-mariam/sahar-mariam/blob/main/ocr.ipynb\" target=\"_parent\"><img src=\"https://colab.research.google.com/assets/colab-badge.svg\" alt=\"Open In Colab\"/></a>"
      ]
    },
    {
      "cell_type": "code",
      "source": [
        "import pytesseract\n",
        "from PIL import Image\n",
        "#impot cv2\n",
        "\n",
        "# Load an image from your Colab environment\n",
        "image_path = '/content/ocr.png'\n",
        "image = Image.open(image_path)\n",
        "\n",
        "# Convert the image to grayscale\n",
        "#gray_image = cv2.cvtColor(image, cv2.COLOR_BGR2GRAY)\n",
        "\n",
        "# Apply thresholding if necessary\n",
        "# _, thresh = cv2.threshold(gray_image, 0, 255, cv2.THRESH_BINARY | cv2.THRESH_OTSU)\n",
        "\n",
        "\n",
        "# Define Tesseract configuration options if needed\n",
        "config = '--psm 6'  # PSM 6 assumes a single uniform block of text\n",
        "\n",
        "# Perform OCR on the image\n",
        "text = pytesseract.image_to_string(image, config=config)\n",
        "\n",
        "# Split the extracted text into lines\n",
        "lines = text.split('\\n')\n",
        "\n",
        "# Print each line\n",
        "for line in lines:\n",
        "    print(line)"
      ],
      "metadata": {
        "colab": {
          "base_uri": "https://localhost:8080/"
        },
        "id": "lUVPLayBvgt3",
        "outputId": "bb5914ac-27c0-4ee8-ee35-1bbf2907b92b"
      },
      "execution_count": 19,
      "outputs": [
        {
          "output_type": "stream",
          "name": "stdout",
          "text": [
            "Store #05666\n",
            "325 06. HAR HTS, 50\n",
            "Sh 160, ch 22100,\n",
            "(a0) 782-7040\n",
            "ogister #4 Transaction #57140\n",
            "Gaanter WeeGG1020 8/20/17 5:<PH\n",
            "wel ness wth Plant!\n",
            "lett! Carai:\"SUmKRNIOHOKASS\n",
            "1 GQ RETRACT BOLD BLK 2 1.99 7\n",
            "SALE 1/1.89, Reg 174.69\n",
            "iscours” 2:70\n",
            "1 Tens subtotal 1.98\n",
            "fx 8\n",
            "jotal 2.14\n",
            "oNasTER bia\n",
            "MASTER, cord» moAKKHAHHKEGES\n",
            "pp HAA aDSRDVRL ALTO\n",
            "fet # Co5saE\n",
            "Entry Method: Chip\n",
            "\f\n"
          ]
        }
      ]
    }
  ]
}